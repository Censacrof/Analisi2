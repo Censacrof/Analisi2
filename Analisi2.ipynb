{
 "cells": [
  {
   "cell_type": "markdown",
   "metadata": {},
   "source": [
    "# Definizioni Analisi II"
   ]
  },
  {
   "cell_type": "markdown",
   "metadata": {},
   "source": [
    "## Insiemi"
   ]
  },
  {
   "cell_type": "markdown",
   "metadata": {},
   "source": [
    "### Sfera aperta\n",
    "$$B_\\delta(x_0)\\equiv \\{x\\in\\mathbb{R}^n: |x - x_0| < \\delta\\} \\ \\ \\ x_0\\in\\mathbb{R}^n, \\delta\\in\\mathbb{R}, \\delta > 0 $$ \n",
    "\n",
    "*L' insieme dei punti la cui distanza da $x_0$ è **minore** di $\\delta$*"
   ]
  },
  {
   "cell_type": "markdown",
   "metadata": {},
   "source": [
    "### Sfera chiusa\n",
    "$$\\overline{B_\\delta(x_0)}\\equiv \\{x\\in\\mathbb{R}^n: |x - x_0| \\leq \\delta\\} \\ \\ \\ x_0\\in\\mathbb{R}^n, \\delta\\in\\mathbb{R}, \\delta > 0 $$ \n",
    "\n",
    "*L' insieme dei punti la cui distanza da $x_0$ è **minore o uguale** a $\\delta$*"
   ]
  },
  {
   "cell_type": "markdown",
   "metadata": {},
   "source": [
    "### Punto interno\n",
    "Il punto $x_0$ si dice **interno** a $\\Omega$ se: \n",
    "\n",
    "$$\\exists\\delta: \\ B_\\delta(x_0)\\subseteq\\Omega$$ \n",
    "\n",
    "*se esiste una sfera centrata in $x_0$ completamente contenuta in $\\Omega$*"
   ]
  },
  {
   "cell_type": "markdown",
   "metadata": {},
   "source": [
    "### Punto esterno\n",
    "Il punto $x_0$ si dice **esterno** a $\\Omega$ se: \n",
    "\n",
    "$$\\exists\\delta: \\ B_\\delta\\cap\\Omega=\\emptyset$$\n",
    "\n",
    "*esiste una sfera di raggio $\\delta$ centrata in $x_0$ la cui intersezione con $\\Omega$ è vuota*"
   ]
  },
  {
   "cell_type": "markdown",
   "metadata": {},
   "source": [
    "### Punto di frontiera\n",
    "Il punto $x_0\\in\\Omega$ si dice **di frotiera** se: \n",
    "\n",
    "$$\\forall\\delta>0 \\ \\exists x\\in\\Omega, \\ y\\not\\in\\Omega: \\ x,y\\in B_\\delta(x_0)$$ \n",
    "\n",
    "*se in un qualsiasi intorno di $x_0$ esistono sia punti appartenenti e non appartenenti a $\\Omega$*"
   ]
  },
  {
   "cell_type": "markdown",
   "metadata": {},
   "source": [
    "### Punto isolato\n",
    "\n",
    "Il punto $x_0\\in\\Omega$ si dice **isolato** se: \n",
    "\n",
    "$$\\exists\\delta: B_\\delta(x_0)\\cap\\Omega=\\{x_0\\}$$\n",
    "\n",
    "*esiste una sfera di raggio $\\delta$ centrata in $x_0$ la cui intersezione con $\\Omega$ è $x_0$, ovvero $x_0$ è l'unico punto dell'insieme $\\Omega$ in quella sfera*"
   ]
  },
  {
   "cell_type": "markdown",
   "metadata": {},
   "source": [
    "### Punto di accumulazione\n",
    "Il punto $x_0$ si dice di accumulazione rispetto $\\Omega$ se: \n",
    "\n",
    "$$\\forall\\delta>0 \\ \\ \\exists x\\in\\Omega: x\\in B_\\delta(x_0), \\ \\ x\\not = x_0$$ \n",
    "\n",
    "*per ogni possibile sfera centrata in $x_0$ esiste un punto $x$ **diverso da $x_0$** appartenente ad $\\Omega$ e alla sfera*"
   ]
  },
  {
   "cell_type": "markdown",
   "metadata": {},
   "source": [
    "### Insieme aperto\n",
    "L'insieme $\\Omega$ si dice **aperto** se ogni suo punto è **interno**"
   ]
  },
  {
   "cell_type": "markdown",
   "metadata": {},
   "source": [
    "### Insieme chiuso\n",
    "L'insieme $\\Omega$ si dice **chiuso** se ogni suo punto **di frontiera** appartiene all'insieme"
   ]
  },
  {
   "cell_type": "markdown",
   "metadata": {},
   "source": [
    "### Insieme Limitato\n",
    "L' insieme $\\Omega$ si dice **limitato** se esiste una sfera centrata nell'origine (o in un punto qualsiasi) che contiene tutto l'insieme. \n",
    "\n",
    "$$\\exists B_\\delta(0)\\supseteq\\Omega, \\ \\ \\ \\delta \\in\\mathbb{R}$$"
   ]
  },
  {
   "cell_type": "markdown",
   "metadata": {},
   "source": [
    "### Insieme connesso\n",
    "L'insieme $\\Omega$ si dice **connesso** se:\n",
    "$$\\forall x_1, \\ x_2 \\in\\Omega \\ \\exists\\gamma:[0, 1]\\to\\Omega \\ \\text{ continua in } [0, 1] \\text{ tale che: }$$\n",
    "$$\\gamma(0)=x_1, \\ \\gamma(1)=x_2$$ \n",
    "\n",
    "*per ogni coppia di punti $x_1$, $x_2$ appartenenti ad $\\Omega$ esiste una curva continua $\\gamma:[0, 1]\\to\\Omega$ tale che $\\gamma(0)=x_1$ e $\\gamma(1)=x_2$*"
   ]
  },
  {
   "cell_type": "markdown",
   "metadata": {},
   "source": [
    "### Insieme convesso \n",
    "\n",
    "L'insieme $\\Omega$ si dice **convesso** se:\n",
    "\n",
    "$$\\forall x_1, x_2\\in\\Omega\\text{ l'insieme } \\{x: x=(1-t)x_1+tx_2, t\\in[0,1]\\}\\subseteq\\Omega$$\n",
    "\n",
    "*per ogni coppia di punti $x_1, x_2$ esiste un segmento contenuto in $\\Omega$ che li connette* "
   ]
  },
  {
   "cell_type": "markdown",
   "metadata": {},
   "source": [
    "### Cono \n",
    "Dato un insieme $\\Omega\\subseteq\\mathbb{R}^n$ esso viene detto **cono rispetto all'origine** se: \n",
    "\n",
    "$$\\forall x\\in\\Omega\\Rightarrow tx\\in\\Omega \\ \\ \\forall t>0, \\ \\ t\\in\\mathbb{R}$$"
   ]
  },
  {
   "cell_type": "markdown",
   "metadata": {},
   "source": [
    "## Successioni"
   ]
  },
  {
   "cell_type": "markdown",
   "metadata": {},
   "source": [
    "### Successione convergente\n",
    "Una successione $a_n\\in\\mathbb{R}^n$ viene detta **convergente ad $x$** se: \n",
    "\n",
    "$$\\forall\\epsilon>0 \\ \\ \\exists\\delta: |a_n-x|<\\epsilon \\ \\ \\ \\forall n>\\delta$$"
   ]
  },
  {
   "cell_type": "markdown",
   "metadata": {},
   "source": [
    "### Successione divergente\n",
    "Una successione $a_n\\in\\mathbb{R}^n$ viene detta **divergente** se: \n",
    "\n",
    "$$\\forall M>0 \\ \\ \\exists N:|a_n|>M \\ \\ \\ \\forall n>N$$"
   ]
  },
  {
   "cell_type": "markdown",
   "metadata": {},
   "source": [
    "## Funzioni"
   ]
  },
  {
   "cell_type": "markdown",
   "metadata": {},
   "source": [
    "### Continuità \n",
    "Una funzione $f:\\Omega\\to\\mathbb{R}^m$ viene detta **continua in $x_0$** se: \n",
    "\n",
    "$$\\forall\\epsilon>0 \\ \\ \\exists\\delta>0: |x-x_0|<\\delta\\Rightarrow|f(x)-f(x_0)|<\\epsilon\\\\\\text{con }x,x_0\\in \\Omega$$"
   ]
  },
  {
   "cell_type": "markdown",
   "metadata": {},
   "source": [
    "### Punto di massimo assoluto \n",
    "Data una funzione $f:\\Omega\\to\\mathbb{R}$ il punto $x_0\\in\\Omega$ viene detto di **massimo assoluto** se:\n",
    "\n",
    "$$f(x_0)\\geq f(x)\\ \\ \\ \\forall x\\in\\Omega$$"
   ]
  },
  {
   "cell_type": "markdown",
   "metadata": {},
   "source": [
    "### Punto di massimo locale \n",
    "Data una funzione $f:\\Omega\\to\\mathbb{R}$ il punto $x_0\\in\\Omega$ viene detto di **massimo locale** se:\n",
    "\n",
    "$$\\exists\\delta>0: \\ f(x_0)\\geq f(x) \\ \\ \\ \\forall x\\in B_\\delta(x_0)\\subset\\Omega$$"
   ]
  },
  {
   "cell_type": "markdown",
   "metadata": {},
   "source": [
    "### Punto di sella\n",
    "Data una funzione $f:\\Omega\\to\\mathbb{R}$ il punto $x_0\\in\\Omega$ viene detto di **sella** se la matrice Hessiana di $f$ nel punto $x_0$ risulta indefinita, **ovvero ha un autovalore strettamente positivo e un autovalore strettamente negativo**."
   ]
  },
  {
   "cell_type": "markdown",
   "metadata": {},
   "source": [
    "### Curva di livello\n",
    "Data una funzione $f$ si definisce **curva di livello**: \n",
    "\n",
    "$$\\{x\\in Dom(f): f(x)=k, \\ k\\in Im(f)\\}$$"
   ]
  },
  {
   "cell_type": "markdown",
   "metadata": {},
   "source": [
    "### Funzione $\\alpha$-omogenea\n",
    "Una funzione $f:\\Omega\\to\\mathbb{R}$, $\\Omega$ **cono** in $\\mathbb{R}^n$. Allora f si dirà **omogenea di grado $\\alpha$** se: \n",
    "\n",
    "$$f(tx)=t^\\alpha f(x), \\ \\ \\ x\\in\\Omega, \\ \\ t,\\alpha\\in\\mathbb{R}$$"
   ]
  },
  {
   "cell_type": "markdown",
   "metadata": {},
   "source": [
    "### Funzione di classe $C^1(\\Omega)$\n",
    "\n",
    "Sia $f:\\Omega\\to\\mathbb{R}$. \n",
    "\n",
    "Si dirà che $f\\in C^1(\\Omega)$ se tutte le sue derivate parziali $f_{x_i}$ esistono e sono continue in $\\Omega$"
   ]
  },
  {
   "cell_type": "markdown",
   "metadata": {},
   "source": [
    "## Calcolo differenziale"
   ]
  },
  {
   "cell_type": "markdown",
   "metadata": {},
   "source": [
    "### Derivata parziale\n",
    "Sia $f:\\Omega\\to\\mathbb{R}$, $\\Omega\\subseteq\\mathbb{R}^n$. Sia $x_0\\in\\Omega$. Le derivate direzionali di $f$ in $x_0$ nelle direzioni dei versori della base canonica $e_1, e_2, ..., e_n$ vengono dette **derivate parziali** e si denotano con i simboli speciali: \n",
    "\n",
    "$$\\frac{\\partial f(x_0)}{\\partial x_i} \\equiv f_{x_i}(x_0)\\equiv\\partial_{x_i}\\ f(x_0)$$"
   ]
  },
  {
   "cell_type": "markdown",
   "metadata": {},
   "source": [
    "### Gradiente\n",
    "\n",
    "Sia $f:\\Omega\\to\\mathbb{R}^n$, $\\Omega\\subseteq\\mathbb{R}^n$. Allora il suo gradiente $\\nabla f(x)\\in\\mathbb{R}^n$ nel punto $x$ viene definito come: \n",
    "\n",
    "$$\\nabla f(x)\\equiv\\left(\\frac{\\partial f(x)}{\\partial x_1}, \\frac{\\partial f(x)}{\\partial x_2}, \\dots, \\frac{\\partial f(x)}{\\partial x_n}\\right)$$"
   ]
  },
  {
   "cell_type": "markdown",
   "metadata": {},
   "source": [
    "### Derivata direzionale\n",
    "Sia $f:\\Omega\\to\\mathbb{R}$, $\\Omega\\subseteq\\mathbb{R}^n$. Sia $x_0\\in\\Omega$. Si dice che $f$ è derivabile in $x_0$ nella direzione di $v\\in\\mathbb{R}^n\\setminus\\{0\\}$ se esiste ed è finito il limite: \n",
    "\n",
    "$$\\lim_{h\\to 0}\\frac{f(x_0+hv)-f(x_0)}{h}$$\n",
    "\n",
    "Esso verrà chiamato **derivata direzionale di $f$ nella direzione di $v$ in $x_0$** e denotato con uno qualunque di questi simboli: \n",
    "\n",
    "$$\\frac{\\partial f}{\\partial v}(x_0)\\equiv\\frac{\\partial f(x_0)}{\\partial v}\\equiv f_v(x_0)\\equiv\\partial_v\\ f(x_0)$$"
   ]
  },
  {
   "cell_type": "markdown",
   "metadata": {},
   "source": [
    "### Punti critici (o stazionari) \n",
    "\n",
    "Sia $f:\\Omega\\to\\mathbb{R}, \\Omega\\subseteq\\mathbb{R}^n$. Allora il punto $x_0\\in\\Omega$ viene detto **punto critico (o stazionario)** se: \n",
    "\n",
    "$$\\nabla f(x_0)=0$$"
   ]
  },
  {
   "cell_type": "markdown",
   "metadata": {},
   "source": [
    "### Differenziabilità\n",
    "Sia $f:\\Omega\\to\\mathbb{R}$, $\\Omega\\subseteq\\mathbb{R}^n$, $x_0\\in\\Omega$, $w\\in\\mathbb{R}^n$, allora $f$ si dirà differenziabile in $x_0$ se $\\exists A:\\mathbb{R}^n\\to\\mathbb{R}$ **lineare** tale che:\n",
    "\n",
    "$$\\lim_{w\\to 0} \\frac{|f(x_0+w)-f(x_0)-A(w)|}{|w|}=0$$ \n",
    "\n",
    "La funzione $A$ verrà quindi detta **differenziale** di $f$ in $x_0$ e viene denotata con i simboli: \n",
    "\n",
    "$$df(x_0, w)\\equiv A(w)$$ \n",
    "\n",
    "La funzione $f$ verrà detta **differenziabile in $\\Omega$** se è differenziabile in ogni punto di $\\Omega$"
   ]
  },
  {
   "cell_type": "markdown",
   "metadata": {},
   "source": [
    "### Matrice Jacobiana\n",
    "\n",
    "Data la funzione $f:\\mathbb{R}^n\\to\\mathbb{R}^m$ **la sua matrice Jacobiana** $f'(x)\\in\\mathbb{R}^{m\\times n}$ nel punto $x$ viene definita come: \n",
    "\n",
    "$$f'(x)\\\n",
    "\\equiv\\\n",
    "\\begin{pmatrix}\\\n",
    "    \\nabla f_1(x)\\\\\n",
    "    \\nabla f_2(x)\\\\\n",
    "    \\vdots\\\\\n",
    "    \\nabla f_m(x)\\\\\n",
    "\\end{pmatrix}\\\n",
    "=\\\n",
    "\\begin{pmatrix}\\\n",
    "    \\frac{\\partial f_1(x)}{\\partial x_1} & \\frac{\\partial f_1(x)}{\\partial x_2} & \\dots & \\frac{\\partial f_1(x)}{\\partial x_n}\\\\\n",
    "    \\frac{\\partial f_2(x)}{\\partial x_1} & \\frac{\\partial f_2(x)}{\\partial x_2} & \\dots & \\frac{\\partial f_2(x)}{\\partial x_n}\\\\\n",
    "    \\vdots & \\vdots & \\ddots & \\\\\n",
    "    \\frac{\\partial f_m(x)}{\\partial x_1} & \\frac{\\partial f_m(x)}{\\partial x_2} &  & \\frac{\\partial f_m(x)}{\\partial x_n}\\\\\n",
    "\\end{pmatrix}$$ \n",
    "\n",
    "o più brevemente: \n",
    "\n",
    "$$(f'(x))_{ij}=\\frac{\\partial f_i(x)}{\\partial x_j}$$ \n",
    "\n",
    "Dove $f_i(x)$ indica la componente $i$-esima del vettore $f(x)$"
   ]
  },
  {
   "cell_type": "markdown",
   "metadata": {},
   "source": [
    "### Matrice Hessiana\n",
    "\n",
    "Data la funzione $f:\\mathbb{R}^n\\to\\mathbb{R}$, se tutte le sue derivate parziali prime e seconde esistono, **la sua matrice Hessiana** $Hf(x)\\in\\mathbb{R}^{n\\times n}$ nel punto $x$ viene definita come: \n",
    "\n",
    "$$Hf(x)\\\n",
    "\\equiv\\\n",
    "\\begin{pmatrix}\\\n",
    "    \\frac{\\partial^2 f(x)}{\\partial x_1^2} & \\frac{\\partial^2 f(x)}{\\partial x_1\\partial x_2} & \\dots & \\frac{\\partial^2 f(x)}{\\partial x_1\\partial x_n}\\\\\n",
    "    \\frac{\\partial^2 f(x)}{\\partial x_2\\partial x_1} & \\frac{\\partial^2 f(x)}{\\partial x_2^2} & \\dots & \\frac{\\partial^2 f(x)}{\\partial x_2\\partial x_n}\\\\\n",
    "    \\vdots & \\vdots & \\ddots & \\\\\n",
    "    \\frac{\\partial^2 f(x)}{\\partial x_n\\partial x_1} & \\frac{\\partial^2 f(x)}{\\partial x_n\\partial x_2} &  & \\frac{\\partial^2 f(x)}{\\partial x_n^2}\\\\\n",
    "\\end{pmatrix}$$ \n",
    "\n",
    "o più brevemente: \n",
    "\n",
    "$$(Hf(x))_{ij}=\\frac{\\partial^2 f(x)}{\\partial x_i\\partial x_j}$$"
   ]
  },
  {
   "cell_type": "markdown",
   "metadata": {},
   "source": [
    "## Campi vettoriali e forme differenziali"
   ]
  },
  {
   "cell_type": "markdown",
   "metadata": {},
   "source": [
    "### Campo vettoriale (o campo)\n",
    "Dato un insieme $\\Omega\\subseteq\\mathbb{R}^n$ si può definire **campo** in $\\Omega$ di classe $C^k$ una funzione $A:\\Omega\\to\\mathbb{R}^n$ la cui componente $i$-esima è a sua volta una funzione, definita però come $A_i:\\Omega\\to\\mathbb{R}$ continua e derivabile fino all'ordine $k, \\ \\forall i=1\\dots n$:\n",
    "\n",
    "$$A:\\Omega\\to\\mathbb{R}^n\\text{ tale che } A(x)=\\begin{pmatrix}A_1(x), \\ A_2(x), \\ \\dots, \\ A_n(x)\\end{pmatrix}$$"
   ]
  },
  {
   "cell_type": "markdown",
   "metadata": {},
   "source": [
    "### Forma differenziale lineare (o forma differenziale, o forma)\n",
    "Si definisce **forma** una funzione $\\alpha:\\Omega\\times\\mathbb{R}^n\\to\\mathbb{R}$ tale che per ogni $\\bar{x}\\in\\Omega$ la funzione $w\\to\\alpha(\\bar{x}, w)$ sia lineare rispetto $w$."
   ]
  },
  {
   "cell_type": "markdown",
   "metadata": {},
   "source": [
    "### Campo associato ad una forma\n",
    "Data una forma $\\alpha:\\Omega\\times\\mathbb{R}^n\\to\\mathbb{R}$ si definisce **campo associato alla forma** $\\alpha$: \n",
    "\n",
    "$$A:\\Omega\\to\\mathbb{R}^n\\text{ tale che } A(x)w=\\alpha(x, w)$$"
   ]
  },
  {
   "cell_type": "markdown",
   "metadata": {},
   "source": [
    "### Integrale di un campo esteso ad una curva (integrale di linea)\n",
    "Sia $A:\\Omega\\to\\mathbb{R}^n$ un campo di classe $C^0(\\Omega)$. Per ogni curva parametrica $\\gamma:[a,b]\\to\\Omega$ si definisce l'**integrale di $A$ eseteso a $\\gamma$** ponendo: \n",
    "\n",
    "$$\\int_\\gamma A\\equiv\\int_a^b\\underbrace{A(\\gamma(t))\\cdot\\gamma'(t)}_{\\text{prodotto scalare}} \\ dt$$"
   ]
  },
  {
   "cell_type": "markdown",
   "metadata": {},
   "source": [
    "### Integrabilità di un campo e primitiva\n",
    "Dato un campo di vettori $A:\\Omega\\to\\mathbb{R}^n$ esso si dirà **integrabile** (o anche campo potenziale) se esiste una funzione $f:\\Omega\\to\\mathbb{R}$ tale che: \n",
    "\n",
    "$$\\nabla f(x)=A(x) \\ \\ \\ \\forall x\\in\\Omega$$\n",
    "\n",
    "Ogni funzione $f$ verificante la proprietà precedente si dirà **primitiva** (o potenziale) del campo $A$"
   ]
  },
  {
   "cell_type": "markdown",
   "metadata": {},
   "source": [
    "### Integrabilità di una forma e primitiva\n",
    "Data una forma $\\alpha:\\Omega\\times\\mathbb{R}^n\\to\\mathbb{R}$ essa si dirà **integrabile** (o esatta) se esiste una funzione  $f:\\Omega\\to\\mathbb{R}$ tale che: \n",
    "\n",
    "$$df\\equiv\\alpha \\ \\ \\ \\text{ su } \\ \\Omega\\times\\mathbb{R}^n$$\n",
    "\n",
    "Ogni funzione $f$ verificante la proprietà precedente si dirà **primitiva** (o potenziale) della forma $\\alpha$"
   ]
  },
  {
   "cell_type": "markdown",
   "metadata": {},
   "source": [
    "### Curva chiusa\n",
    "Una curva $\\gamma:[a,b]\\to\\mathbb{R}^n$ viene detta **curva chiusa** se: \n",
    "\n",
    "$$\\gamma(a)=\\gamma(b)$$"
   ]
  },
  {
   "cell_type": "markdown",
   "metadata": {},
   "source": [
    "### Campo irrotazionale\n",
    "Un campo $A:\\Omega\\to\\mathbb{R}^n$ si dice **irrotazionale** se:\n",
    "\n",
    "$$(A_i)_{x_j}=(A_j)_{x_i} \\ \\ \\ \\forall i \\not = j$$"
   ]
  },
  {
   "cell_type": "markdown",
   "metadata": {},
   "source": [
    "### Forma differenziale chiusa\n",
    "Una forma differenziale si definisce **chiusa** se il suo campo associato $A(x): \\alpha(x,w)=A(x)w$ è **irrotazionale**"
   ]
  },
  {
   "cell_type": "markdown",
   "metadata": {},
   "source": [
    "### Congiunzione di curve e curva opposta\n",
    "Date due curve $\\gamma:[a,b]\\to\\Omega$, $\\sigma:[b,c]\\to\\Omega$ si definisce:\n",
    "\n",
    "* **Congiunzione di $\\gamma$ e $\\sigma$**\n",
    "    $$(\\gamma\\oplus\\sigma):[a,c]\\to\\Omega \\\\ (\\gamma\\oplus\\sigma)(t)=\\begin{cases}\\gamma(t) & \\forall t\\in[a,b]\\\\ \\sigma(t) & \\forall t\\in[b,c] \\end{cases}$$ \n",
    "    \n",
    "* **Curva opposta di $\\gamma$**\n",
    "    $$\\gamma:[b, a]\\to\\Omega \\\\ \\ominus\\gamma(t)=\\gamma(b-t+a)$$"
   ]
  },
  {
   "cell_type": "markdown",
   "metadata": {},
   "source": [
    "### Curve omotope (o deformabili)\n",
    "Date due curve $\\gamma:[0,1]\\to\\Omega$, $\\sigma:[0,1]\\to\\Omega$ esse si dicono **omotope** (o deformabili) se esiste una funzione $h:[0,1]\\times[0,1]\\to\\Omega$ **continua** tale che: \n",
    "\n",
    "$$h(0,t)=\\gamma(t), \\ \\ \\ h(1,t)=\\sigma(t)$$"
   ]
  },
  {
   "cell_type": "markdown",
   "metadata": {},
   "source": [
    "### Insieme semplicemente connesso\n",
    "Un insieme $\\Omega\\subseteq\\mathbb{R}^n$ si dice **semplicemente connesso** se ogni curva **chiusa** $\\gamma:[0,1]\\to\\Omega$ è **omotopa** in $\\Omega$ ad una curva costante $\\sigma(t)\\equiv x_0, \\ \\ \\forall t\\in[0,1]$"
   ]
  },
  {
   "cell_type": "markdown",
   "metadata": {},
   "source": [
    "### Insieme a stella\n",
    "Un insieme $\\Omega\\subseteq\\mathbb{R}^n$ viene detto **a stella** se esiste un punto $x_0\\in\\Omega$ tale che il segmento $\\overline{x_0x}\\subseteq\\Omega$ per ogni $x\\in\\Omega$"
   ]
  },
  {
   "cell_type": "markdown",
   "metadata": {},
   "source": [
    "## Curve e lunghezza"
   ]
  },
  {
   "cell_type": "markdown",
   "metadata": {},
   "source": [
    "### Partizione di un intervallo\n",
    "Dato un intervallo arbitrario $[a,b]$ si definisce **partizione di** $[a,b]$ ogni sequenza finita di punti $\\Pi=\\{t_0, t_1,\\dots,t_n\\}$ tali che: \n",
    "\n",
    "$$a=t_0\\leq t_1\\leq\\dots\\leq t_n=b$$"
   ]
  },
  {
   "cell_type": "markdown",
   "metadata": {},
   "source": [
    "### Lunghezza di una poligonale inscritta ad una curva\n",
    "Data una curva $\\gamma:[a,b]\\to\\mathbb{R}^n$ ed una partizione $\\Pi=\\{t_0, t_1,\\dots,t_n\\}$, si definisce la **lunghezza della poligonale inscritta** $\\wedge(\\Pi)$ come il numero: \n",
    "\n",
    "$$\\wedge(\\Pi)=\\sum_{i=0}^{n-1}|\\gamma(t_{i+1})-\\gamma(t_i)|$$"
   ]
  },
  {
   "cell_type": "markdown",
   "metadata": {},
   "source": [
    "### Curva rettificabile\n",
    "Una curva parametrica $\\gamma:[a,b]\\to\\mathbb{R}^n$ viene detta **rettificabile** se esiste **finito** il numero: \n",
    "\n",
    "$$\\wedge(\\gamma)\\equiv\\sup_\\Pi\\wedge(\\Pi)$$ \n",
    "\n",
    "al variare di tutte le possibili partizioni dell'intervallo dei parametri. Il numero $\\wedge(\\gamma)$ verrà detto **lunghezza** della curva. Vale inoltre che: \n",
    "\n",
    "$$\\wedge(\\gamma)=\\int_a^b|\\gamma'(t)| \\ dt$$"
   ]
  },
  {
   "cell_type": "markdown",
   "metadata": {},
   "source": [
    "### Retta tangente al sostegno di una curva\n",
    "Data una curva $\\gamma:[a,b]\\to\\mathbb{R}^n$ e un punto $t_0\\in[a,b]$ si definisce **retta tangente al sostegno (ovvero all'immagine) di $\\gamma$ nel suo punto** $\\gamma(t_0)$ la retta parametrica: \n",
    "\n",
    "$$\\sigma(t)=\\gamma(t_0)+(t-t_0)\\gamma'(t_0)$$"
   ]
  },
  {
   "cell_type": "markdown",
   "metadata": {},
   "source": [
    "### Piano tangente e vettore normale\n",
    "Il **piano tangente** al grafico cartesiano $\\{(x,y,z)\\in\\mathbb{R}^3:z=f(x,y)\\}$ della funzione $f:\\mathbb{R}^2\\to\\mathbb{R}$ nel punto $(x_0,y_0,f(x_0,y_0))$ è il piano di equazione implicita: \n",
    "\n",
    "$$z-f(x_0,y_0)-f_x(x_0,y_0)(x-x_0)-f_y(x_0,y_0)(y-y_0)=0$$\n",
    "\n",
    "Si dira **vettore normale** di tale piano:\n",
    "\n",
    "$$\\nu=(-f_x(x_0,y_0),-f_y(x_0,y_0),1)$$"
   ]
  },
  {
   "cell_type": "markdown",
   "metadata": {},
   "source": [
    "### Spazio tangente\n",
    "Sia $f:\\Omega\\to\\mathbb{R}^m$, $\\Omega\\subseteq\\mathbb{R}^n$. Fissato $x_0\\in\\Omega$ si definisce **spazio tangente** ad $f$ in $x_0$ lo spazio $T$ generato dalle colonne $T_i$ di $f'(x_0)$ (la sua matrice Jacobiana in $x_0$). L'equazione parametrica dello **spazio affine tangente** sarà invece: \n",
    "\n",
    "$$g(\\alpha_1,\\alpha_2,\\dots,\\alpha_n)=f(x_0)+\\sum_{i=1}^n\\alpha_i T_i$$"
   ]
  },
  {
   "cell_type": "markdown",
   "metadata": {},
   "source": [
    "### Curva regolare\n",
    "Una curva $\\gamma:[a,b]\\to\\mathbb{R}^n$ di classe $C^1$ si dice **regolare** se: \n",
    "\n",
    "$$\\gamma'(t)\\not=0 \\ \\ \\ \\forall t\\in[a,b]$$"
   ]
  },
  {
   "cell_type": "markdown",
   "metadata": {},
   "source": [
    "### Coordinate polari sferiche\n",
    "<img src=\"https://mse.redwoods.edu/darnold/math50c/mathjax/spherical/spherical.png\" style=\" float: right; height: 400px; width: auto;\" />\n",
    "Dato un punto $x_0\\in\\mathbb{R}^3$ la sua rappresentazione in **coordinate polari sferiche** è: \n",
    "\n",
    "\n",
    "$$P(\\rho,\\theta,\\phi)=\\begin{pmatrix}\\rho\\sin(\\phi)\\cos(\\theta) \\\\ \\rho\\sin(\\phi)\\sin(\\theta) \\\\ \\rho\\cos(\\phi)\\end{pmatrix}=x_0$$ \n",
    "\n",
    "dove:\n",
    "* $\\rho$ indica la distanza di $x_0$ dall'origine\n",
    "* $\\theta\\in[0,\\pi]$ indica l'angolo tra l'asse $z$ e il vettore $x_0$\n",
    "* $\\phi\\in[0,2\\pi]$ indica l'angolo tra l'asse $x$ e la proiezione del vettore $x_0$ sul piano orizzontale\n"
   ]
  },
  {
   "cell_type": "markdown",
   "metadata": {},
   "source": [
    "## Teoria della misura"
   ]
  },
  {
   "cell_type": "markdown",
   "metadata": {},
   "source": [
    "### Intervalli in $\\mathbb{R}^n$ e la loro norma\n",
    "Un **intervallo in** $\\mathbb{R}^n$ è definito come il prodotto cartesiano di $n$ intervalli in $\\mathbb{R}$: \n",
    "\n",
    "$$I=[a_1,b_1]\\times[a_2,b_2]\\times\\dots\\times[a_n,b_n]=\\{(x_1,x_2,\\dots,x_n)\\in\\mathbb{R}^n:x_i\\in[a_i,b_i]\\}$$ \n",
    "\n",
    "La **norma di un intervallo** è definita come: \n",
    "\n",
    "$$|I|=(b_1-a_1)\\cdot(b_2-a_2)\\cdot\\dots\\cdot(b_n-a_n)=\\prod_{i=1}^n(b_i-a_i)$$"
   ]
  },
  {
   "cell_type": "markdown",
   "metadata": {},
   "source": [
    "### Plurintervalli e la loro norma\n",
    "Un **plurintervallo** $P$ è un insieme tale che esistano un numero infinito di intervalli $I_i$, $i=1\\dots n$, **privi di punti interni comuni**, verificanti:\n",
    "\n",
    "$$P=\\bigcup_{i=1}^nI_i$$\n",
    "\n",
    "La **norma di un plurintervallo** è definita come: \n",
    "\n",
    "$$|P|=\\sum_{i=1}^n|I_i|$$"
   ]
  },
  {
   "cell_type": "markdown",
   "metadata": {},
   "source": [
    "### Misura di un insieme aperto\n",
    "Sia $\\Omega$ un insieme aperto di $\\mathbb{R}^n$, allora la sua **misura** viene definita come: \n",
    "\n",
    "$$|\\Omega|=\\sup|P|, \\ \\ \\ P\\subseteq\\Omega $$\n",
    "\n",
    "dove $P$ è un plurintervallo che approssima l'area di $\\Omega$, quindi $P\\subseteq\\Omega$"
   ]
  },
  {
   "cell_type": "markdown",
   "metadata": {},
   "source": [
    "### Misura di un insieme compatto (quindi chiuso e limitato)\n",
    "Sia $\\Omega$ un insieme compatto di $\\mathbb{R}^n$, allora la sua misura viene definita come: \n",
    "\n",
    "$$|\\Omega|=\\inf|P|, \\ \\ \\ P\\supseteq\\Omega$$\n",
    "\n",
    "dove $P$ è un plurintervallo che contiene interamente l'insieme $\\Omega$"
   ]
  },
  {
   "cell_type": "markdown",
   "metadata": {},
   "source": [
    "### Insieme misurabile secondo Lebesgue\n",
    "Dato un insieme $E\\subseteq\\mathbb{R}^n$ **limitato**, si definisce:\n",
    "\n",
    "* **Misura interna**\n",
    "    $$m_*(E)=\\sup|K|, \\ \\ \\ K\\subseteq E, \\ K \\text{ compatto}$$\n",
    "\n",
    "* **Misura esterna**\n",
    "    $$m^*(E)=\\inf|\\Omega|, \\ \\ \\ \\Omega\\supseteq E, \\ \\Omega \\text{ aperto}$$\n",
    "\n",
    "si dirà quindi che $E$ è **misurabile secondo Lebesgue** se: \n",
    "$$m_*(E)=m^*(E)$$\n",
    "\n",
    "ed il valore comune di $m_*(E)$ e $m^*(E)$ verrà detto **misura di Lebesgue** di $E$, e viene denotato con: \n",
    "\n",
    "$$|E|\\text{ oppure } m(E)$$"
   ]
  },
  {
   "cell_type": "markdown",
   "metadata": {},
   "source": [
    "### Misurabilità di insiemi non limitati\n",
    "Sia $E\\subseteq\\mathbb{R}^n$ arbitrario. Allora $E$ si dirà **misurabile** se lo sono tutti gli insiemi: \n",
    "\n",
    "$$E_k=E\\cap[-k,k]^n \\ \\ \\text{ e si porrà } |E|=\\sup_\\mathbb{N}|E_k|$$"
   ]
  },
  {
   "cell_type": "markdown",
   "metadata": {},
   "source": [
    "### Funzione integrabile secondo Lebesgue\n",
    "Sia $f:E\\to\\mathbb{R}$ una funzione reale su $E$, **insieme misurabile di dimensione finita**. Sia $\\pi=\\{E_1,E_2,\\dots,E_n\\}$ una partizione misurabile di $E$, ossia una famiglia finita di sottoinsiemi misurabili (secondo Lebesgue) di $E$ verificante: \n",
    "\n",
    "$$\\bigcup_{i=1\\dots n} E_i=E \\\\ i\\not=j\\Rightarrow E_i\\bigcap E_j=\\emptyset$$ \n",
    "\n",
    "Per ogni fissata partizione $\\pi$, si definiscono la **somma inferiore** $\\sigma_\\pi$ e la **somma superiore** $\\Sigma_\\pi$ ponendo:\n",
    "\n",
    "$$\\sigma_\\pi=\\sum_{i=1}^n m(E_i)\\inf_{E_i} f \\\\ \\Sigma_\\pi=\\sum_{i=1}^n m(E_i)\\sup_{E_i} f$$\n",
    "\n",
    "Si definiscono poi **l'integrale inferiore** $\\underline{\\int}_E f$ e **integrale superiore** $\\overline{\\int}_E f$ ponendo: \n",
    "\n",
    "$$\\underline{\\int}_E f\\equiv\\sup_\\pi\\sigma_\\pi \\\\ \\overline{\\int}_E f\\equiv\\inf_\\pi\\Sigma_\\pi$$\n",
    "\n",
    "al variare di $\\pi$ nell'insieme di tutte le partizioni misurabili. \n",
    "\n",
    "Infine si dice che $f$ **è integrabile secondo Lebesgue** se e solo se gli integrali superiore e inferiore su $E$ coincidono. Il loro comune valore è detto **integrale di Lebesgue di $f$ su $E$**"
   ]
  },
  {
   "cell_type": "markdown",
   "metadata": {},
   "source": [
    "### Integrale di funzioni positive su insiemi di misura finita\n",
    "Sia ora $f$ una funzione positiva, non necessariamente limitata. Per definirne l'integrale poniamo, per ogni $n\\in\\mathbb{N}$: \n",
    "\n",
    "$$f_n(x)=\\min(f(x),n)$$ \n",
    "\n",
    "Si pone allora: \n",
    "\n",
    "$$\\int_E f\\equiv\\sup_{n\\in\\mathbb{N}}\\int_E f_n$$\n",
    "\n",
    "la funzione $f$ si dirà **integrabile su** $E$ se il secondo membro dell'equazione precedente è finito."
   ]
  },
  {
   "cell_type": "markdown",
   "metadata": {},
   "source": [
    "### Integrale di funzioni positive su insiemi misurabili arbitrari\n",
    "Dato un qualunque insieme misurabile $E$ poniamo $E_n=E\\cap B_n(0)$. Ogni $E_n$ ha misura finita, minore o uguale a quella della sfera. Si pone, per ogni funzione positiva: \n",
    "\n",
    "$$\\int_E f\\equiv\\sup_{n\\in\\mathbb{N}}\\int_{E_n} f$$\n",
    "\n",
    "la funzione $f$ si dirà **integrabile su** $E$ se il secondo membro dell'equazione precedente è finito."
   ]
  },
  {
   "cell_type": "markdown",
   "metadata": {},
   "source": [
    "### Integrale di funzioni arbitrarie su inisiemi arbitrari\n",
    "Data una funzione $f$ si definisce:\n",
    "* **parte positiva di** $f$\n",
    "    $$f^+(x)=\\max(f(x), 0)$$\n",
    "\n",
    "* **parte negativa di** $f$\n",
    "    $$f^-(x)=\\max(0, -f(x))$$\n",
    "\n",
    "Le funzioni così definite sono funzioni positive, per le quali l'integrale è già stato definito. Esse verificano: \n",
    "\n",
    "$$f(x)=f^+(x)-f^-(x) \\ \\ \\ |f(x)|=f^+(x)+f^-(x) \\\\ f^+(x)=\\frac{1}{2}[|f(x)|+f(x)] \\ \\ \\text{ e } \\ \\ f^-(x)=\\frac{1}{2}[|f(x)|-f(x)]$$\n",
    "\n",
    "Si pone allora:\n",
    "\n",
    "$$\\int_E f \\equiv\\int_E f^+-\\int_E f^-$$\n",
    "\n",
    "infine $f$ sarà detta **integrabile** se e solo se lo sono (separatamente) la sua parte positiva e la sua parte negativa."
   ]
  }
 ],
 "metadata": {
  "kernelspec": {
   "display_name": "Python 3",
   "language": "python",
   "name": "python3"
  },
  "language_info": {
   "codemirror_mode": {
    "name": "ipython",
    "version": 3
   },
   "file_extension": ".py",
   "mimetype": "text/x-python",
   "name": "python",
   "nbconvert_exporter": "python",
   "pygments_lexer": "ipython3",
   "version": "3.6.5"
  }
 },
 "nbformat": 4,
 "nbformat_minor": 2
}

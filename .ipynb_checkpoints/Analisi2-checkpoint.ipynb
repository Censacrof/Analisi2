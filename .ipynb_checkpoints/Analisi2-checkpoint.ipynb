{
 "cells": [
  {
   "cell_type": "markdown",
   "metadata": {},
   "source": [
    "# Definizioni Analisi II"
   ]
  },
  {
   "cell_type": "markdown",
   "metadata": {},
   "source": [
    "## Insiemi"
   ]
  },
  {
   "cell_type": "markdown",
   "metadata": {},
   "source": [
    "### Sfera aperta\n",
    "$$B_\\delta(x_0)\\equiv \\{x\\in\\mathbb{R}^n: |x - x_0| < \\delta\\} \\ \\ \\ x_0\\in\\mathbb{R}^n, \\delta\\in\\mathbb{R}, \\delta > 0 $$ \n",
    "\n",
    "*L' insieme dei punti la cui distanza da $x_0$ è **minore** di $\\delta$*"
   ]
  },
  {
   "cell_type": "markdown",
   "metadata": {},
   "source": [
    "### Sfera chiusa\n",
    "$$\\overline{B_\\delta(x_0)}\\equiv \\{x\\in\\mathbb{R}^n: |x - x_0| \\leq \\delta\\} \\ \\ \\ x_0\\in\\mathbb{R}^n, \\delta\\in\\mathbb{R}, \\delta > 0 $$ \n",
    "\n",
    "*L' insieme dei punti la cui distanza da $x_0$ è **minore o uguale** a $\\delta$*"
   ]
  },
  {
   "cell_type": "markdown",
   "metadata": {},
   "source": [
    "### Punto interno\n",
    "Il punto $x_0$ si dice **interno** a $\\Omega$ se: \n",
    "\n",
    "$$\\exists\\delta: \\ B_\\delta(x_0)\\subseteq\\Omega$$ \n",
    "\n",
    "*se esiste una sfera centrata in $x_0$ completamente contenuta in $\\Omega$*"
   ]
  },
  {
   "cell_type": "markdown",
   "metadata": {},
   "source": [
    "### Punto esterno\n",
    "Il punto $x_0$ si dice **esterno** a $\\Omega$ se: \n",
    "\n",
    "$$\\exists\\delta: \\ B_\\delta\\cap\\Omega=\\emptyset$$\n",
    "\n",
    "*esiste una sfera di raggio $\\delta$ centrata in $x_0$ la cui intersezione con $\\Omega$ è vuota*"
   ]
  },
  {
   "cell_type": "markdown",
   "metadata": {},
   "source": [
    "### Punto di frontiera\n",
    "Il punto $x_0\\in\\Omega$ si dice **di frotiera** se: \n",
    "\n",
    "$$\\forall\\delta>0 \\ \\exists x\\in\\Omega, \\ y\\not\\in\\Omega: \\ x,y\\in B_\\delta(x_0)$$ \n",
    "\n",
    "*se in un qualsiasi intorno di $x_0$ esistono sia punti appartenenti e non appartenenti a $\\Omega$*"
   ]
  },
  {
   "cell_type": "markdown",
   "metadata": {},
   "source": [
    "### Punto isolato\n",
    "\n",
    "Il punto $x_0\\in\\Omega$ si dice **isolato** se: \n",
    "\n",
    "$$\\exists\\delta: B_\\delta(x_0)\\cap\\Omega=\\{x_0\\}$$\n",
    "\n",
    "*esiste una sfera di raggio $\\delta$ centrata in $x_0$ la cui intersezione con $\\Omega$ è $x_0$, ovvero $x_0$ è l'unico punto dell'insieme $\\Omega$ in quella sfera*"
   ]
  },
  {
   "cell_type": "markdown",
   "metadata": {},
   "source": [
    "### Punto di accumulazione\n",
    "Il punto $x_0$ si dice di accumulazione rispetto $\\Omega$ se: \n",
    "\n",
    "$$\\forall\\delta>0 \\ \\ \\exists x\\in\\Omega: x\\in B_\\delta(x_0), \\ \\ x\\not = x_0$$ \n",
    "\n",
    "*per ogni possibile sfera centrata in $x_0$ esiste un punto $x$ **diverso da $x_0$** appartenente ad $\\Omega$ e alla sfera*"
   ]
  },
  {
   "cell_type": "markdown",
   "metadata": {},
   "source": [
    "### Insieme aperto\n",
    "L'insieme $\\Omega$ si dice **aperto** se ogni suo punto è **interno**"
   ]
  },
  {
   "cell_type": "markdown",
   "metadata": {},
   "source": [
    "### Insieme chiuso\n",
    "L'insieme $\\Omega$ si dice **chiuso** se ogni suo punto **di frontiera** appartiene all'insieme"
   ]
  },
  {
   "cell_type": "markdown",
   "metadata": {},
   "source": [
    "### Insieme Limitato\n",
    "L' insieme $\\Omega$ si dice **limitato** se esiste una sfera centrata nell'origine (o in un punto qualsiasi) che contiene tutto l'insieme. \n",
    "\n",
    "$$\\exists B_\\delta(0)\\supseteq\\Omega, \\ \\ \\ \\delta \\in\\mathbb{R}$$"
   ]
  },
  {
   "cell_type": "markdown",
   "metadata": {},
   "source": [
    "### Insieme connesso\n",
    "L'insieme $\\Omega$ si dice **connesso** se:\n",
    "$$\\forall x_1, \\ x_2 \\in\\Omega \\ \\exists\\gamma:[0, 1]\\to\\Omega \\ \\text{ continua in } [0, 1] \\text{ tale che: }$$\n",
    "$$\\gamma(0)=x_1, \\ \\gamma(1)=x_2$$ \n",
    "\n",
    "*per ogni coppia di punti $x_1$, $x_2$ appartenenti ad $\\Omega$ esiste una curva continua $\\gamma:[0, 1]\\to\\Omega$ tale che $\\gamma(0)=x_1$ e $\\gamma(1)=x_2$*"
   ]
  },
  {
   "cell_type": "markdown",
   "metadata": {},
   "source": [
    "### Insieme convesso \n",
    "\n",
    "L'insieme $\\Omega$ si dice **convesso** se:\n",
    "\n",
    "$$\\forall x_1, x_2\\in\\Omega\\text{ l'insieme } \\{x: x=(1-t)x_1+tx_2, t\\in[0,1]\\}\\subseteq\\Omega$$\n",
    "\n",
    "*per ogni coppia di punti $x_1, x_2$ esiste un segmento contenuto in $\\Omega$ che li connette* "
   ]
  },
  {
   "cell_type": "markdown",
   "metadata": {},
   "source": [
    "### Diametro di un insieme\n",
    "**MISSING**"
   ]
  },
  {
   "cell_type": "markdown",
   "metadata": {},
   "source": [
    "### Cono \n",
    "Dato un insieme $\\Omega\\subseteq\\mathbb{R}^n$ esso viene detto **cono rispetto all'origine** se: \n",
    "\n",
    "$$\\forall x\\in\\Omega\\Rightarrow tx\\in\\Omega \\ \\ \\forall t>0, \\ \\ t\\in\\mathbb{R}$$"
   ]
  },
  {
   "cell_type": "markdown",
   "metadata": {},
   "source": [
    "## Successioni"
   ]
  },
  {
   "cell_type": "markdown",
   "metadata": {},
   "source": [
    "### Successione convergente\n",
    "Una successione $a_n\\in\\mathbb{R}^n$ viene detta **convergente ad $x$** se: \n",
    "\n",
    "$$\\forall\\epsilon>0 \\ \\ \\exists\\delta: |a_n-x|<\\epsilon \\ \\ \\ \\forall n>\\delta$$"
   ]
  },
  {
   "cell_type": "markdown",
   "metadata": {},
   "source": [
    "### Successione divergente\n",
    "Una successione $a_n\\in\\mathbb{R}^n$ viene detta **divergente** se: \n",
    "\n",
    "$$\\forall M>0 \\ \\ \\exists N:|a_n|>M \\ \\ \\ \\forall n>N$$"
   ]
  },
  {
   "cell_type": "markdown",
   "metadata": {},
   "source": [
    "## Funzioni"
   ]
  },
  {
   "cell_type": "markdown",
   "metadata": {},
   "source": [
    "### Continuità \n",
    "Una funzione $f:\\Omega\\to\\mathbb{R}^m$ viene detta **continua in $x_0$** se: \n",
    "\n",
    "$$\\forall\\epsilon>0 \\ \\ \\exists\\delta>0: |x-x_0|<\\delta\\Rightarrow|f(x)-f(x_0)|<\\epsilon\\\\\\text{con }x,x_0\\in \\Omega$$"
   ]
  },
  {
   "cell_type": "markdown",
   "metadata": {},
   "source": [
    "### Punto di massimo assoluto \n",
    "Data una funzione $f:\\Omega\\to\\mathbb{R}$ il punto $x_0\\in\\Omega$ viene detto di **massimo assoluto** se:\n",
    "\n",
    "$$f(x_0)\\geq f(x)\\ \\ \\ \\forall x\\in\\Omega$$"
   ]
  },
  {
   "cell_type": "markdown",
   "metadata": {},
   "source": [
    "### Punto di massimo locale \n",
    "Data una funzione $f:\\Omega\\to\\mathbb{R}$ il punto $x_0\\in\\Omega$ viene detto di **massimo locale** se:\n",
    "\n",
    "$$\\exists\\delta>0: \\ f(x_0)\\geq f(x) \\ \\ \\ \\forall x\\in B_\\delta(x_0)\\subset\\Omega$$"
   ]
  },
  {
   "cell_type": "markdown",
   "metadata": {},
   "source": [
    "### Punto di sella\n",
    "Data una funzione $f:\\Omega\\to\\mathbb{R}$ il punto $x_0\\in\\Omega$ viene detto di **sella** se la matrice Hessiana di $f$ nel punto $x_0$ risulta indefinita, **ovvero ha un autovalore strettamente positivo e un autovalore strettamente negativo**."
   ]
  },
  {
   "cell_type": "markdown",
   "metadata": {},
   "source": [
    "### Curva di livello\n",
    "Data una funzione $f$ si definisce **curva di livello**: \n",
    "\n",
    "$$\\{x\\in Dom(f): f(x)=k, \\ k\\in Im(f)\\}$$"
   ]
  },
  {
   "cell_type": "markdown",
   "metadata": {},
   "source": [
    "### Funzione $\\alpha$-omogenea\n",
    "Una funzione $f:\\Omega\\to\\mathbb{R}$, $\\Omega$ **cono** in $\\mathbb{R}^n$. Allora f si dirà **omogenea di grado $\\alpha$** se: \n",
    "\n",
    "$$f(tx)=t^\\alpha f(x), \\ \\ \\ x\\in\\Omega, \\ \\ t,\\alpha\\in\\mathbb{R}$$"
   ]
  },
  {
   "cell_type": "markdown",
   "metadata": {},
   "source": [
    "### Funzione di classe $C^1(\\Omega)$\n",
    "\n",
    "Sia $f:\\Omega\\to\\mathbb{R}$. \n",
    "\n",
    "Si dirà che $f\\in C^1(\\Omega)$ se tutte le sue derivate parziali $f_{x_i}$ esistono e sono continue in $\\Omega$"
   ]
  },
  {
   "cell_type": "markdown",
   "metadata": {},
   "source": [
    "## Calcolo differenziale"
   ]
  },
  {
   "cell_type": "markdown",
   "metadata": {},
   "source": [
    "### Derivata parziale\n",
    "Sia $f:\\Omega\\to\\mathbb{R}$, $\\Omega\\subseteq\\mathbb{R}^n$. Sia $x_0\\in\\Omega$. Le derivate direzionali di $f$ in $x_0$ nelle direzioni dei versori della base canonica $e_1, e_2, ..., e_n$ vengono dette **derivate parziali** e si denotano con i simboli speciali: \n",
    "\n",
    "$$\\frac{\\partial f(x_0)}{\\partial x_i} \\equiv f_{x_i}(x_0)\\equiv\\partial_{x_i}\\ f(x_0)$$"
   ]
  },
  {
   "cell_type": "markdown",
   "metadata": {},
   "source": [
    "### Gradiente\n",
    "\n",
    "Sia $f:\\Omega\\to\\mathbb{R}^n$, $\\Omega\\subseteq\\mathbb{R}^n$. Allora il suo gradiente $\\nabla f(x)\\in\\mathbb{R}^n$ nel punto $x$ viene definito come: \n",
    "\n",
    "$$\\nabla f(x)\\equiv\\left(\\frac{\\partial f(x)}{\\partial x_1}, \\frac{\\partial f(x)}{\\partial x_2}, \\dots, \\frac{\\partial f(x)}{\\partial x_n}\\right)$$"
   ]
  },
  {
   "cell_type": "markdown",
   "metadata": {},
   "source": [
    "### Derivata direzionale\n",
    "Sia $f:\\Omega\\to\\mathbb{R}$, $\\Omega\\subseteq\\mathbb{R}^n$. Sia $x_0\\in\\Omega$. Si dice che $f$ è derivabile in $x_0$ nella direzione di $v\\in\\mathbb{R}^n\\setminus\\{0\\}$ se esiste ed è finito il limite: \n",
    "\n",
    "$$\\lim_{h\\to 0}\\frac{f(x_0+hv)-f(x_0)}{h}$$\n",
    "\n",
    "Esso verrà chiamato **derivata direzionale di $f$ nella direzione di $v$ in $x_0$** e denotato con uno qualunque di questi simboli: \n",
    "\n",
    "$$\\frac{\\partial f}{\\partial v}(x_0)\\equiv\\frac{\\partial f(x_0)}{\\partial v}\\equiv f_v(x_0)\\equiv\\partial_v\\ f(x_0)$$"
   ]
  },
  {
   "cell_type": "markdown",
   "metadata": {},
   "source": [
    "### Punti critici (o stazionari) \n",
    "\n",
    "Sia $f:\\Omega\\to\\mathbb{R}, \\Omega\\subseteq\\mathbb{R}^n$. Allora il punto $x_0\\in\\Omega$ viene detto **punto critico (o stazionario)** se: \n",
    "\n",
    "$$\\nabla f(x_0)=0$$"
   ]
  },
  {
   "cell_type": "markdown",
   "metadata": {},
   "source": [
    "### Differenziabilità\n",
    "Sia $f:\\Omega\\to\\mathbb{R}$, $\\Omega\\subseteq\\mathbb{R}^n$, $x_0\\in\\Omega$, $w\\in\\mathbb{R}^n$, allora $f$ si dirà differenziabile in $x_0$ se $\\exists A:\\mathbb{R}^n\\to\\mathbb{R}$ **lineare** tale che:\n",
    "\n",
    "$$\\lim_{w\\to 0} \\frac{|f(x_0+w)-f(x_0)-A(w)|}{|w|}=0$$ \n",
    "\n",
    "La funzione $A$ verrà quindi detta **differenziale** di $f$ in $x_0$ e viene denotata con i simboli: \n",
    "\n",
    "$$df(x_0, w)\\equiv A(w)$$ \n",
    "\n",
    "La funzione $f$ verrà detta **differenziabile in $\\Omega$** se è differenziabile in ogni punto di $\\Omega$"
   ]
  },
  {
   "cell_type": "markdown",
   "metadata": {},
   "source": [
    "### Matrice Jacobiana\n",
    "\n",
    "Data la funzione $f:\\mathbb{R}^n\\to\\mathbb{R}^m$ **la sua matrice Jacobiana** $f'(x)\\in\\mathbb{R}^{m\\times n}$ nel punto $x$ viene definita come: \n",
    "\n",
    "$$f'(x)\\\n",
    "\\equiv\\\n",
    "\\begin{pmatrix}\\\n",
    "    \\nabla f_1(x)\\\\\n",
    "    \\nabla f_2(x)\\\\\n",
    "    \\vdots\\\\\n",
    "    \\nabla f_m(x)\\\\\n",
    "\\end{pmatrix}\\\n",
    "=\\\n",
    "\\begin{pmatrix}\\\n",
    "    \\frac{\\partial f_1(x)}{\\partial x_1} & \\frac{\\partial f_1(x)}{\\partial x_2} & \\dots & \\frac{\\partial f_1(x)}{\\partial x_n}\\\\\n",
    "    \\frac{\\partial f_2(x)}{\\partial x_1} & \\frac{\\partial f_2(x)}{\\partial x_2} & \\dots & \\frac{\\partial f_2(x)}{\\partial x_n}\\\\\n",
    "    \\vdots & \\vdots & \\ddots & \\\\\n",
    "    \\frac{\\partial f_m(x)}{\\partial x_1} & \\frac{\\partial f_m(x)}{\\partial x_2} &  & \\frac{\\partial f_m(x)}{\\partial x_n}\\\\\n",
    "\\end{pmatrix}$$ \n",
    "\n",
    "o più brevemente: \n",
    "\n",
    "$$(f'(x))_{ij}=\\frac{\\partial f_i(x)}{\\partial x_j}$$ \n",
    "\n",
    "Dove $f_i(x)$ indica la componente $i$-esima del vettore $f(x)$"
   ]
  },
  {
   "cell_type": "markdown",
   "metadata": {},
   "source": [
    "### Matrice Hessiana\n",
    "\n",
    "Data la funzione $f:\\mathbb{R}^n\\to\\mathbb{R}$, se tutte le sue derivate parziali prime e seconde esistono, **la sua matrice Hessiana** $Hf(x)\\in\\mathbb{R}^{n\\times n}$ nel punto $x$ viene definita come: \n",
    "\n",
    "$$Hf(x)\\\n",
    "\\equiv\\\n",
    "\\begin{pmatrix}\\\n",
    "    \\frac{\\partial^2 f(x)}{\\partial x_1^2} & \\frac{\\partial^2 f(x)}{\\partial x_1\\partial x_2} & \\dots & \\frac{\\partial^2 f(x)}{\\partial x_1\\partial x_n}\\\\\n",
    "    \\frac{\\partial^2 f(x)}{\\partial x_2\\partial x_1} & \\frac{\\partial^2 f(x)}{\\partial x_2^2} & \\dots & \\frac{\\partial^2 f(x)}{\\partial x_2\\partial x_n}\\\\\n",
    "    \\vdots & \\vdots & \\ddots & \\\\\n",
    "    \\frac{\\partial^2 f(x)}{\\partial x_n\\partial x_1} & \\frac{\\partial^2 f(x)}{\\partial x_n\\partial x_2} &  & \\frac{\\partial^2 f(x)}{\\partial x_n^2}\\\\\n",
    "\\end{pmatrix}$$ \n",
    "\n",
    "o più brevemente: \n",
    "\n",
    "$$(Hf(x))_{ij}=\\frac{\\partial^2 f(x)}{\\partial x_i\\partial x_j}$$"
   ]
  },
  {
   "cell_type": "markdown",
   "metadata": {},
   "source": [
    "## Campi vettoriali e forme differenziali"
   ]
  },
  {
   "cell_type": "markdown",
   "metadata": {},
   "source": [
    "### Campo vettoriale (o campo)\n",
    "Dato un insieme $\\Omega\\subseteq\\mathbb{R}^n$ si può definire **campo** in $\\Omega$ di classe $C^k$ una funzione $A:\\Omega\\to\\mathbb{R}^n$ la cui componente $i$-esima è a sua volta una funzione, definita però come $A_i:\\Omega\\to\\mathbb{R}$ continua e derivabile fino all'ordine $k, \\ \\forall i=1\\dots n$:\n",
    "\n",
    "$$A:\\Omega\\to\\mathbb{R}^n\\text{ tale che } A(x)=\\begin{pmatrix}A_1(x), \\ A_2(x), \\ \\dots, \\ A_n(x)\\end{pmatrix}$$"
   ]
  },
  {
   "cell_type": "markdown",
   "metadata": {},
   "source": [
    "### Forma differenziale lineare (o forma differenziale, o forma)\n",
    "Si definisce **forma** una funzione $\\alpha:\\Omega\\times\\mathbb{R}^n\\to\\mathbb{R}$ tale che per ogni $\\bar{x}\\in\\Omega$ la funzione $w\\to\\alpha(\\bar{x}, w)$ sia lineare rispetto $w$."
   ]
  },
  {
   "cell_type": "markdown",
   "metadata": {},
   "source": [
    "### Campo associato ad una forma\n",
    "Data una forma $\\alpha:\\Omega\\times\\mathbb{R}^n\\to\\mathbb{R}$ si definisce **campo associato alla forma** $\\alpha$: \n",
    "\n",
    "$$A:\\Omega\\to\\mathbb{R}^n\\text{ tale che } A(x)w=\\alpha(x, w)$$"
   ]
  },
  {
   "cell_type": "markdown",
   "metadata": {},
   "source": [
    "### Retta tangente\n",
    "**MISSING**"
   ]
  },
  {
   "cell_type": "markdown",
   "metadata": {},
   "source": [
    "### PIano tangente\n",
    "**MISSING**"
   ]
  },
  {
   "cell_type": "markdown",
   "metadata": {},
   "source": [
    "### Vettore normale\n",
    "**MISSING**"
   ]
  },
  {
   "cell_type": "markdown",
   "metadata": {},
   "source": [
    "### Curva rettificabile\n",
    "**MISSING**"
   ]
  },
  {
   "cell_type": "markdown",
   "metadata": {},
   "source": [
    "### Curva regolare\n",
    "**MISSING**"
   ]
  },
  {
   "cell_type": "markdown",
   "metadata": {},
   "source": [
    "### Superficie regolare\n",
    "**MISSING**"
   ]
  },
  {
   "cell_type": "markdown",
   "metadata": {},
   "source": [
    "### Curva chiusa\n",
    "**MISSING**"
   ]
  },
  {
   "cell_type": "markdown",
   "metadata": {},
   "source": [
    "### Curva omotopa o deformabile\n",
    "**MISSING**"
   ]
  },
  {
   "cell_type": "markdown",
   "metadata": {},
   "source": [
    "### Integrale di un campo o di una forma esteso ad una curva\n",
    "**MISSING**"
   ]
  },
  {
   "cell_type": "markdown",
   "metadata": {},
   "source": [
    "### Integrabilità di un campo\n",
    "**MISSING**"
   ]
  },
  {
   "cell_type": "markdown",
   "metadata": {},
   "source": [
    "### Integrabilità di una forma (forma esatta)\n",
    "**MISSING**"
   ]
  },
  {
   "cell_type": "markdown",
   "metadata": {},
   "source": [
    "### Campo irrotazionale\n",
    "**MISSING**"
   ]
  },
  {
   "cell_type": "markdown",
   "metadata": {},
   "source": [
    "### Forma chiusa\n",
    "**MISSING**"
   ]
  },
  {
   "cell_type": "markdown",
   "metadata": {},
   "source": [
    "### Insieme semplicemente connesso\n",
    "**MISSING**"
   ]
  },
  {
   "cell_type": "markdown",
   "metadata": {},
   "source": [
    "### Insieme a stella\n",
    "**MISSING**"
   ]
  },
  {
   "cell_type": "markdown",
   "metadata": {},
   "source": [
    "### Plurintervallo\n",
    "**MISSING**"
   ]
  },
  {
   "cell_type": "markdown",
   "metadata": {},
   "source": [
    "### Misura insieme aperto\n",
    "**MISSING**"
   ]
  },
  {
   "cell_type": "markdown",
   "metadata": {},
   "source": [
    "### Misura insieme chiuso (compatto)\n",
    "**MISSING**"
   ]
  },
  {
   "cell_type": "markdown",
   "metadata": {},
   "source": [
    "### Insieme misurabile secondo Lebesgue\n",
    "**MISSING**"
   ]
  },
  {
   "cell_type": "markdown",
   "metadata": {},
   "source": [
    "### Integrale per funzioni limitate\n",
    "**MISSING**"
   ]
  },
  {
   "cell_type": "markdown",
   "metadata": {},
   "source": [
    "### Funzione integrabile secondo Lebesgue\n",
    "**MISSING**"
   ]
  },
  {
   "cell_type": "markdown",
   "metadata": {},
   "source": [
    "### Funzioni positive su insiemi di misura finita\n",
    "**MISSING**"
   ]
  },
  {
   "cell_type": "markdown",
   "metadata": {},
   "source": [
    "### Funzioni positive su insiemi misurabili arbitrari\n",
    "**MISSING**"
   ]
  },
  {
   "cell_type": "markdown",
   "metadata": {},
   "source": [
    "### Funzioni arbitrarie su inisiemi arbitrari\n",
    "**MISSING**"
   ]
  }
 ],
 "metadata": {
  "kernelspec": {
   "display_name": "Python 3",
   "language": "python",
   "name": "python3"
  },
  "language_info": {
   "codemirror_mode": {
    "name": "ipython",
    "version": 3
   },
   "file_extension": ".py",
   "mimetype": "text/x-python",
   "name": "python",
   "nbconvert_exporter": "python",
   "pygments_lexer": "ipython3",
   "version": "3.6.5"
  }
 },
 "nbformat": 4,
 "nbformat_minor": 2
}

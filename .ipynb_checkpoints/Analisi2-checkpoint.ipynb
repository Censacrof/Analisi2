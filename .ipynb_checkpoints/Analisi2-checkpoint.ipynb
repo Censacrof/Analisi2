{
 "cells": [
  {
   "cell_type": "markdown",
   "metadata": {},
   "source": [
    "# Analisi II"
   ]
  },
  {
   "cell_type": "markdown",
   "metadata": {},
   "source": [
    "## Definizioni"
   ]
  },
  {
   "cell_type": "markdown",
   "metadata": {},
   "source": [
    "### Sfera aperta\n",
    "$$B_\\delta(x_0)\\equiv \\{x\\in\\mathbb{R}^n: |x - x_0| < \\delta\\} \\ \\ \\ x_0\\in\\mathbb{R}^n, \\delta\\in\\mathbb{R}, \\delta > 0 $$ \n",
    "\n",
    "*L' insieme dei punti la cui distanza da $x_0$ è **minore** di $\\delta$*"
   ]
  },
  {
   "cell_type": "markdown",
   "metadata": {},
   "source": [
    "### Sfera chiusa\n",
    "$$\\overline{B_\\delta(x_0)}\\equiv \\{x\\in\\mathbb{R}^n: |x - x_0| \\leq \\delta\\} \\ \\ \\ x_0\\in\\mathbb{R}^n, \\delta\\in\\mathbb{R}, \\delta > 0 $$ \n",
    "\n",
    "*L' insieme dei punti la cui distanza da $x_0$ è **minore o uguale** a $\\delta$*"
   ]
  },
  {
   "cell_type": "markdown",
   "metadata": {},
   "source": [
    "### Insieme aperto\n",
    "L'insieme $\\Omega$ si dice **aperto** se ogni suo punto è **interno**"
   ]
  },
  {
   "cell_type": "markdown",
   "metadata": {},
   "source": [
    "### Insieme chiuso\n",
    "L'insieme $\\Omega$ si dice **chiuso** se ogni suo punto **di frontiera** appartiene all'insieme"
   ]
  },
  {
   "cell_type": "markdown",
   "metadata": {},
   "source": [
    "### Punto interno\n",
    "Il punto $x_0$ si dice **interno** a $\\Omega$ se: \n",
    "\n",
    "$$\\exists\\delta: \\ B_\\delta(x_0)\\subseteq\\Omega$$ \n",
    "\n",
    "*se esiste una sfera centrata in $x_0$ completamente contenuta in $\\Omega$*"
   ]
  },
  {
   "cell_type": "markdown",
   "metadata": {},
   "source": [
    "### Punto di frontiera\n",
    "Il punto $x_0\\in\\Omega$ si dice **di frotiera** se: \n",
    "\n",
    "$$\\forall\\delta>0 \\ \\exists x\\in\\Omega, \\ y\\not\\in\\Omega: \\ x,y\\in B_\\delta(x_0)$$ \n",
    "\n",
    "*se in un qualsiasi intorno di $x_0$ esistono sia punti appartenenti e non appartenenti a $\\Omega$*"
   ]
  },
  {
   "cell_type": "markdown",
   "metadata": {},
   "source": [
    "### Punto esterno\n",
    "Il punto $x_0$ si dice **esterno** a $\\Omega$ se: \n",
    "\n",
    "$$\\exists\\delta: \\ B_\\delta\\cap\\Omega=\\emptyset$$\n",
    "\n",
    "*esiste una sfera centrata in $x_0$ la cui intersezione con $\\Omega$ è vuota*"
   ]
  },
  {
   "cell_type": "markdown",
   "metadata": {},
   "source": [
    "### Punto di accumulazione"
   ]
  },
  {
   "cell_type": "markdown",
   "metadata": {},
   "source": [
    "### Punto isolato"
   ]
  },
  {
   "cell_type": "markdown",
   "metadata": {},
   "source": [
    "### Insieme Limitato\n",
    "L' insieme $\\Omega$ si dice **limitato** se esiste una sfera centrata nell'origine (o in un punto qualsiasi) che contiene tutto l'insieme. \n",
    "\n",
    "$$\\exists B_\\delta(0)\\supseteq\\Omega, \\ \\ \\ \\delta \\in\\mathbb{r}$$"
   ]
  },
  {
   "cell_type": "markdown",
   "metadata": {},
   "source": [
    "### Diametro di un insieme"
   ]
  },
  {
   "cell_type": "markdown",
   "metadata": {},
   "source": [
    "### Successione divergente"
   ]
  },
  {
   "cell_type": "markdown",
   "metadata": {},
   "source": [
    "### Successione convergente"
   ]
  },
  {
   "cell_type": "markdown",
   "metadata": {},
   "source": [
    "### Limite"
   ]
  },
  {
   "cell_type": "markdown",
   "metadata": {},
   "source": [
    "### Criterio di convergenza di Cauchy"
   ]
  },
  {
   "cell_type": "markdown",
   "metadata": {},
   "source": [
    "### Curva di livello"
   ]
  },
  {
   "cell_type": "markdown",
   "metadata": {},
   "source": [
    "### Funzione $\\alpha$-omogenea"
   ]
  },
  {
   "cell_type": "markdown",
   "metadata": {},
   "source": [
    "### Derivata parziale"
   ]
  },
  {
   "cell_type": "markdown",
   "metadata": {},
   "source": [
    "### Derivata direzionale"
   ]
  },
  {
   "cell_type": "markdown",
   "metadata": {},
   "source": [
    "### Funzione di classe $C^1(\\omega)$"
   ]
  },
  {
   "cell_type": "markdown",
   "metadata": {},
   "source": [
    "### Retta tangente"
   ]
  },
  {
   "cell_type": "markdown",
   "metadata": {},
   "source": [
    "### PIano tangente"
   ]
  },
  {
   "cell_type": "markdown",
   "metadata": {},
   "source": [
    "### Vettore normale"
   ]
  },
  {
   "cell_type": "markdown",
   "metadata": {},
   "source": [
    "### Differenziabilità\n",
    "Sia $f:\\Omega\\to\\mathbb{R}$, $\\Omega\\subseteq\\mathbb{R}^n$, $x_0\\in\\Omega$, $w\\in\\mathbb{R}^n$, allora $f$ si dirà differenziabile in $x_0$ se $\\exists A:\\mathbb{R}^n\\to\\mathbb{R}$ **lineare** tale che:\n",
    "\n",
    "$$\\lim_{w\\to 0} \\frac{|f(x_0+w)-f(x_0)-A(w)|}{|w|}=0$$ \n",
    "\n",
    "La funzione $A$ verrà quindi detta **differenziale** di $f$ in $x_0$ e viene denotata con i simboli: \n",
    "\n",
    "$$df(x_0, w)\\equiv A(w)$$ \n",
    "\n",
    "La funzione $f$ verrà detta **differenziabile in $\\Omega$** se è differenziabile in ogni punto di $\\Omega$"
   ]
  },
  {
   "cell_type": "markdown",
   "metadata": {},
   "source": [
    "### Curva rettificabile"
   ]
  },
  {
   "cell_type": "markdown",
   "metadata": {},
   "source": [
    "### Curva regolare"
   ]
  },
  {
   "cell_type": "markdown",
   "metadata": {},
   "source": [
    "### Matrice Jacobiana"
   ]
  },
  {
   "cell_type": "markdown",
   "metadata": {},
   "source": [
    "### Superficie regolare"
   ]
  },
  {
   "cell_type": "markdown",
   "metadata": {},
   "source": [
    "### Curva chiusa"
   ]
  },
  {
   "cell_type": "markdown",
   "metadata": {},
   "source": [
    "### Curva omotopa o deformabile"
   ]
  },
  {
   "cell_type": "markdown",
   "metadata": {},
   "source": [
    "### Campo"
   ]
  },
  {
   "cell_type": "markdown",
   "metadata": {},
   "source": [
    "### Forma"
   ]
  },
  {
   "cell_type": "markdown",
   "metadata": {},
   "source": [
    "### Integrale di un campo o di una forma esteso ad una curva"
   ]
  },
  {
   "cell_type": "markdown",
   "metadata": {},
   "source": [
    "### Integrabilità di un campo"
   ]
  },
  {
   "cell_type": "markdown",
   "metadata": {},
   "source": [
    "### Integrabilità di una forma (forma esatta)"
   ]
  },
  {
   "cell_type": "markdown",
   "metadata": {},
   "source": [
    "### Campo irrotazionale"
   ]
  },
  {
   "cell_type": "markdown",
   "metadata": {},
   "source": [
    "### Forma chiusa"
   ]
  },
  {
   "cell_type": "markdown",
   "metadata": {},
   "source": [
    "### Insieme connesso\n",
    "L'insieme $\\Omega$ si dice **connesso** se:\n",
    "$$\\forall x_1, \\ x_2 \\in\\Omega \\ \\exists\\phi:[0, 1]\\to\\Omega \\ \\text{ continua in } [0, 1] \\text{ tale che: }$$\n",
    "$$\\phi(0)=x_1, \\ \\phi(1)=x_2$$ \n",
    "\n",
    "*per ogni coppia di punti $x_1$, $x_2$ appartenenti ad $\\Omega$ esiste una curva continua $\\phi:[0, 1]\\to\\Omega$ tale che $\\phi(0)=x_1$ e $\\phi(1)=x_2$*"
   ]
  },
  {
   "cell_type": "markdown",
   "metadata": {},
   "source": [
    "### Insieme semplicemente connesso"
   ]
  },
  {
   "cell_type": "markdown",
   "metadata": {},
   "source": [
    "### Insieme a stella"
   ]
  },
  {
   "cell_type": "markdown",
   "metadata": {},
   "source": [
    "### Plurintervallo"
   ]
  },
  {
   "cell_type": "markdown",
   "metadata": {},
   "source": [
    "### Misura insieme aperto"
   ]
  },
  {
   "cell_type": "markdown",
   "metadata": {},
   "source": [
    "### Misura insieme chiuso (compatto)"
   ]
  },
  {
   "cell_type": "markdown",
   "metadata": {},
   "source": [
    "### Insieme misurabile secondo Lebesgue"
   ]
  },
  {
   "cell_type": "markdown",
   "metadata": {},
   "source": [
    "### Integrale per funzioni limitate"
   ]
  },
  {
   "cell_type": "markdown",
   "metadata": {},
   "source": [
    "### Funzione integrabile secondo Lebesgue"
   ]
  },
  {
   "cell_type": "markdown",
   "metadata": {},
   "source": [
    "### Funzioni positive su insiemi di misura finita"
   ]
  },
  {
   "cell_type": "markdown",
   "metadata": {},
   "source": [
    "### Funzioni positive su insiemi misurabili arbitrari"
   ]
  },
  {
   "cell_type": "markdown",
   "metadata": {},
   "source": [
    "### Funzioni arbitrarie su inisiemi arbitrari"
   ]
  }
 ],
 "metadata": {
  "kernelspec": {
   "display_name": "Python 3",
   "language": "python",
   "name": "python3"
  },
  "language_info": {
   "codemirror_mode": {
    "name": "ipython",
    "version": 3
   },
   "file_extension": ".py",
   "mimetype": "text/x-python",
   "name": "python",
   "nbconvert_exporter": "python",
   "pygments_lexer": "ipython3",
   "version": "3.6.3"
  }
 },
 "nbformat": 4,
 "nbformat_minor": 2
}
